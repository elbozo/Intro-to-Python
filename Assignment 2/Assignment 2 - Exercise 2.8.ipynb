{
 "cells": [
  {
   "cell_type": "markdown",
   "metadata": {},
   "source": [
    "## Table of Squares and Cubes"
   ]
  },
  {
   "cell_type": "code",
   "execution_count": 23,
   "metadata": {},
   "outputs": [
    {
     "name": "stdout",
     "output_type": "stream",
     "text": [
      "Start number:\t1\n",
      "Stop number:\t6\n",
      "number\tsquare\tcube\n",
      "1 \t 1 \t 1\n",
      "2 \t 4 \t 8\n",
      "3 \t 9 \t 27\n",
      "4 \t 16 \t 64\n",
      "5 \t 25 \t 125\n"
     ]
    }
   ],
   "source": [
    "start = int(input(\"Start number:\\t\"))\n",
    "end = int(input(\"Stop number:\\t\"))\n",
    "\n",
    "def printTable(start, end):\n",
    "    x=1\n",
    "    print(\"number\\tsquare\\tcube\")\n",
    "    while x<=5:\n",
    "        print(x,\"\\t\",x*x,\"\\t\",x*x*x)\n",
    "        x=x+1\n",
    "        \n",
    "printTable(start, end)"
   ]
  },
  {
   "cell_type": "markdown",
   "metadata": {},
   "source": [
    "## right-aligned"
   ]
  },
  {
   "cell_type": "code",
   "execution_count": 32,
   "metadata": {},
   "outputs": [
    {
     "name": "stdout",
     "output_type": "stream",
     "text": [
      "Start number:\t1\n",
      "Stop number:\t6\n",
      "number\t\tsquare\t\tcube\n",
      "     0               0             0\n",
      "     1               1             1\n",
      "     2               4             8\n",
      "     3               9            27\n",
      "     4              16            64\n",
      "     5              25           125\n"
     ]
    }
   ],
   "source": [
    "start = int(input(\"Start number:\\t\"))\n",
    "end = int(input(\"Stop number:\\t\"))\n",
    "\n",
    "def printTable(start, end):\n",
    "    x=1\n",
    "    print(\"number\\t\\tsquare\\t\\tcube\")\n",
    "    for x in range(6):\n",
    "        print('{:>6d}{:>16d}{:>14d}'.format(x, x*x, x*x*x))\n",
    "        \n",
    "printTable(start, end)"
   ]
  },
  {
   "cell_type": "code",
   "execution_count": null,
   "metadata": {},
   "outputs": [],
   "source": []
  }
 ],
 "metadata": {
  "kernelspec": {
   "display_name": "Python 3",
   "language": "python",
   "name": "python3"
  },
  "language_info": {
   "codemirror_mode": {
    "name": "ipython",
    "version": 3
   },
   "file_extension": ".py",
   "mimetype": "text/x-python",
   "name": "python",
   "nbconvert_exporter": "python",
   "pygments_lexer": "ipython3",
   "version": "3.7.6"
  }
 },
 "nbformat": 4,
 "nbformat_minor": 4
}
