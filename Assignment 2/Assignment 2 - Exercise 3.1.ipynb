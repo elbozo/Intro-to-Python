{
 "cells": [
  {
   "cell_type": "markdown",
   "metadata": {},
   "source": [
    "## Validating User Input"
   ]
  },
  {
   "cell_type": "code",
   "execution_count": 6,
   "metadata": {},
   "outputs": [
    {
     "name": "stdout",
     "output_type": "stream",
     "text": [
      "Enter result (1=pass, 2=fail): 1\n",
      "Enter result (1=pass, 2=fail): 2\n",
      "Enter result (1=pass, 2=fail): 3\n",
      "Enter result (1=pass, 2=fail): 4\n",
      "Enter result (1=pass, 2=fail): 1\n",
      "Enter result (1=pass, 2=fail): 1\n",
      "Enter result (1=pass, 2=fail): 1\n",
      "Enter result (1=pass, 2=fail): 1\n",
      "Enter result (1=pass, 2=fail): 1\n",
      "Enter result (1=pass, 2=fail): 1\n",
      "Passed: 7\n",
      "Failed: 3\n",
      "Enter result (1=pass, 2=fail): 1\n",
      "Enter result (1=pass, 2=fail): 1\n",
      "Enter result (1=pass, 2=fail): 1\n",
      "Enter result (1=pass, 2=fail): 1\n",
      "Enter result (1=pass, 2=fail): 1\n",
      "Enter result (1=pass, 2=fail): 1\n",
      "Enter result (1=pass, 2=fail): 1\n",
      "Enter result (1=pass, 2=fail): 1\n",
      "Enter result (1=pass, 2=fail): 1\n",
      "Enter result (1=pass, 2=fail): 1\n",
      "Passed: 10\n",
      "Failed: 0\n",
      "Bonus to instructor\n"
     ]
    }
   ],
   "source": [
    "# fig03_03.py\n",
    "\"\"\"Using nested control statements to analyze examination results.\"\"\"\n",
    "\n",
    "# initialize variables\n",
    "passes = 0 # number of passes\n",
    "failures = 0 # number of failuresz\n",
    "# process 10 students\n",
    "for student in range(10):\n",
    "    # get one exam result\n",
    "    result = int(input('Enter result (1=pass, 2=fail): '))\n",
    "    if result == 1:\n",
    "        passes = passes + 1\n",
    "    else:\n",
    "        failures = failures + 1\n",
    "# termination phase\n",
    "print('Passed:', passes)\n",
    "print('Failed:', failures)\n",
    "if passes > 8:\n",
    "    print('Bonus to instructor')\n",
    "\n",
    "# fig03_03.py\n",
    "\"\"\"Using nested control statements to analyze \n",
    "examination results.\"\"\"\n",
    "\n",
    "# initialize variables\n",
    "passes = 0  # number of passes\n",
    "failures = 0  # number of failures\n",
    "\n",
    "# process 10 students   \n",
    "for student in range(10):\n",
    "    # get one exam result\n",
    "    result = 0\n",
    "    while result not in [1, 2]:\n",
    "       result = int(input('Enter result (1=pass, 2=fail): '))\n",
    "\n",
    "    if result == 1:\n",
    "       passes = passes + 1\n",
    "    else:\n",
    "       failures = failures + 1\n",
    "\n",
    "# termination phase\n",
    "print('Passed:', passes)\n",
    "print('Failed:', failures)\n",
    "\n",
    "if passes > 8:\n",
    "    print('Bonus to instructor')"
   ]
  },
  {
   "cell_type": "code",
   "execution_count": 9,
   "metadata": {},
   "outputs": [
    {
     "name": "stdout",
     "output_type": "stream",
     "text": [
      "Enter result (1=pass, 2=fail):1\n",
      "Enter result (1=pass, 2=fail):2\n",
      "Enter result (1=pass, 2=fail):3\n",
      "Invalid Result!\n",
      "Enter result (1=pass, 2=fail): 4\n",
      "Invalid Result!\n",
      "Enter result (1=pass, 2=fail): 5\n",
      "Invalid Result!\n",
      "Enter result (1=pass, 2=fail): 2\n",
      "Enter result (1=pass, 2=fail):1\n",
      "Enter result (1=pass, 2=fail):1\n",
      "Enter result (1=pass, 2=fail):1\n",
      "Enter result (1=pass, 2=fail):1\n",
      "Enter result (1=pass, 2=fail):1\n",
      "Enter result (1=pass, 2=fail):1\n",
      "Enter result (1=pass, 2=fail):1\n",
      "Passed: 8\n",
      "Failed: 2\n"
     ]
    }
   ],
   "source": [
    "# fig03_03.py\n",
    "\"\"\"Using nested control statements to analyze examination results.\"\"\"\n",
    "\n",
    "# initialize variables\n",
    "passes = 0 # number of passes\n",
    "failures = 0 # number of failures\n",
    "# process 10 students\n",
    "for student in range(10):\n",
    "    # get one exam result\n",
    "    result = int(input('Enter result (1=pass, 2=fail):'))\n",
    "    while result != 1 and result != 2:\n",
    "        print('Invalid Result!')\n",
    "        result = int(input('Enter result (1=pass, 2=fail): '))\n",
    "    if result == 1:\n",
    "        passes = passes + 1\n",
    "    else:\n",
    "        failures = failures + 1\n",
    "# termination phase\n",
    "print('Passed:', passes)\n",
    "print('Failed:', failures)\n",
    "if passes > 8:\n",
    "    print('Bonus to instructor')"
   ]
  },
  {
   "cell_type": "code",
   "execution_count": null,
   "metadata": {},
   "outputs": [],
   "source": []
  }
 ],
 "metadata": {
  "kernelspec": {
   "display_name": "Python 3",
   "language": "python",
   "name": "python3"
  },
  "language_info": {
   "codemirror_mode": {
    "name": "ipython",
    "version": 3
   },
   "file_extension": ".py",
   "mimetype": "text/x-python",
   "name": "python",
   "nbconvert_exporter": "python",
   "pygments_lexer": "ipython3",
   "version": "3.7.6"
  }
 },
 "nbformat": 4,
 "nbformat_minor": 4
}
