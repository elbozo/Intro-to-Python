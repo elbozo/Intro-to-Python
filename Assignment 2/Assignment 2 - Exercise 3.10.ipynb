{
 "cells": [
  {
   "cell_type": "markdown",
   "metadata": {},
   "source": [
    "## 7% Investment Return every year for 30 years"
   ]
  },
  {
   "cell_type": "code",
   "execution_count": 2,
   "metadata": {},
   "outputs": [
    {
     "name": "stdout",
     "output_type": "stream",
     "text": [
      "After 10 years: $1967.15\n",
      "After 11 years: $2104.85\n",
      "After 12 years: $2252.19\n",
      "After 13 years: $2409.85\n",
      "After 14 years: $2578.53\n",
      "After 15 years: $2759.03\n",
      "After 16 years: $2952.16\n",
      "After 17 years: $3158.82\n",
      "After 18 years: $3379.93\n",
      "After 19 years: $3616.53\n",
      "After 20 years: $3869.68\n",
      "After 21 years: $4140.56\n",
      "After 22 years: $4430.40\n",
      "After 23 years: $4740.53\n",
      "After 24 years: $5072.37\n",
      "After 25 years: $5427.43\n",
      "After 26 years: $5807.35\n",
      "After 27 years: $6213.87\n",
      "After 28 years: $6648.84\n",
      "After 29 years: $7114.26\n",
      "After 30 years: $7612.26\n"
     ]
    }
   ],
   "source": [
    "p=1000\n",
    "r=7\n",
    "for n in range(10,31,1):\n",
    "    a=p*(1+r/100)**n\n",
    "    \n",
    "    print(\"After {} years: ${:.2f}\".format(n,a))"
   ]
  },
  {
   "cell_type": "code",
   "execution_count": null,
   "metadata": {},
   "outputs": [],
   "source": []
  }
 ],
 "metadata": {
  "kernelspec": {
   "display_name": "Python 3",
   "language": "python",
   "name": "python3"
  },
  "language_info": {
   "codemirror_mode": {
    "name": "ipython",
    "version": 3
   },
   "file_extension": ".py",
   "mimetype": "text/x-python",
   "name": "python",
   "nbconvert_exporter": "python",
   "pygments_lexer": "ipython3",
   "version": "3.7.6"
  }
 },
 "nbformat": 4,
 "nbformat_minor": 4
}
