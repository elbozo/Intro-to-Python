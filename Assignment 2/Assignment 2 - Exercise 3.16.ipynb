{
 "cells": [
  {
   "cell_type": "markdown",
   "metadata": {},
   "source": [
    "## Nested Control Statements"
   ]
  },
  {
   "cell_type": "code",
   "execution_count": 10,
   "metadata": {},
   "outputs": [
    {
     "name": "stdout",
     "output_type": "stream",
     "text": [
      "1 23 43 456 32 435 123 765 345\n",
      "First Largest: 765\n",
      "Second Largest: 456\n"
     ]
    }
   ],
   "source": [
    "values = list(map(int, input().split()))\n",
    "firstLargest = -1\n",
    "secondLargest = -1\n",
    "\n",
    "for n in values:\n",
    "    if n > firstLargest:\n",
    "        firstLargest = n\n",
    "        \n",
    "for n in values:\n",
    "    if n > secondLargest:\n",
    "        if n != firstLargest:\n",
    "            secondLargest = n\n",
    "\n",
    "print(\"First Largest:\", firstLargest)\n",
    "print(\"Second Largest:\", secondLargest)"
   ]
  },
  {
   "cell_type": "code",
   "execution_count": null,
   "metadata": {},
   "outputs": [],
   "source": []
  }
 ],
 "metadata": {
  "kernelspec": {
   "display_name": "Python 3",
   "language": "python",
   "name": "python3"
  },
  "language_info": {
   "codemirror_mode": {
    "name": "ipython",
    "version": 3
   },
   "file_extension": ".py",
   "mimetype": "text/x-python",
   "name": "python",
   "nbconvert_exporter": "python",
   "pygments_lexer": "ipython3",
   "version": "3.7.6"
  }
 },
 "nbformat": 4,
 "nbformat_minor": 4
}
