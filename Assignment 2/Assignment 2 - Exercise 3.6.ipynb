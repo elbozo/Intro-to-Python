{
 "cells": [
  {
   "cell_type": "markdown",
   "metadata": {},
   "source": [
    "## Turing Test"
   ]
  },
  {
   "cell_type": "code",
   "execution_count": 2,
   "metadata": {},
   "outputs": [
    {
     "name": "stdout",
     "output_type": "stream",
     "text": [
      "What is your problem?\n",
      "I have a headache\n",
      "Have you had this problem before (yes or no)?\n",
      "yes\n",
      "Well, you have it again.\n",
      "\n"
     ]
    }
   ],
   "source": [
    "question=input(\"What is your problem?\\n\")\n",
    "question=input(\"Have you had this problem before (yes or no)?\\n\")\n",
    "if question== \"yes\":\n",
    "    print(\"Well, you have it again.\\n\")\n",
    "else:\n",
    "    print(\"Well, you have it now.\\n\")"
   ]
  },
  {
   "cell_type": "code",
   "execution_count": null,
   "metadata": {},
   "outputs": [],
   "source": []
  }
 ],
 "metadata": {
  "kernelspec": {
   "display_name": "Python 3",
   "language": "python",
   "name": "python3"
  },
  "language_info": {
   "codemirror_mode": {
    "name": "ipython",
    "version": 3
   },
   "file_extension": ".py",
   "mimetype": "text/x-python",
   "name": "python",
   "nbconvert_exporter": "python",
   "pygments_lexer": "ipython3",
   "version": "3.7.6"
  }
 },
 "nbformat": 4,
 "nbformat_minor": 4
}
